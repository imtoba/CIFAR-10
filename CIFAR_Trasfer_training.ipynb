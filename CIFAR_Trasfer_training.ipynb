{
  "nbformat": 4,
  "nbformat_minor": 0,
  "metadata": {
    "colab": {
      "name": "CIFAR_Trasfer_training.ipynb",
      "version": "0.3.2",
      "views": {},
      "default_view": {},
      "provenance": [],
      "collapsed_sections": [
        "7ZQ9R-yOKDHk",
        "B40iWAE6KDIB",
        "8YKDX8QYKDJU",
        "NTSpNmk8KDKj",
        "e7QeflhuKDKs",
        "c-fof3IeKDLA",
        "87OQg_VnKDLG",
        "lm3gYMpKKDLe",
        "7J2-0kOfKDLw",
        "1xuq9xkeKDLx",
        "MY3d5NmbKDL6",
        "_rASkcYRKDMH",
        "5j_TgbaTKDMo",
        "eaVEvjgxKDM2",
        "k5f9not9KDM-",
        "qBWpyBF_KDNP",
        "hgCamX8lKDNW",
        "EtLbZ7rYKDNf",
        "mT-9G0XwKDNn",
        "R4Rhz4BsKDNu",
        "a2HwCFBtKDNv",
        "ZY7QwCNiKDN6",
        "cpvtz2XuKDOI",
        "NEElP5XjKDOc",
        "GZtSR2pzKDOd",
        "_Rv40mUsKDOf"
      ]
    },
    "kernelspec": {
      "name": "python3",
      "display_name": "Python 3"
    },
    "accelerator": "GPU"
  },
  "cells": [
    {
      "metadata": {
        "id": "2LhTwLWXKC_q",
        "colab_type": "text"
      },
      "cell_type": "markdown",
      "source": [
        ""
      ]
    },
    {
      "metadata": {
        "id": "9hTpVOGsKC_x",
        "colab_type": "text"
      },
      "cell_type": "markdown",
      "source": [
        ""
      ]
    },
    {
      "metadata": {
        "id": "ThtF2LDHKC_1",
        "colab_type": "text"
      },
      "cell_type": "markdown",
      "source": [
        "## Flowchart"
      ]
    },
    {
      "metadata": {
        "id": "eRTgUsJlKC_8",
        "colab_type": "text"
      },
      "cell_type": "markdown",
      "source": [
        "\n"
      ]
    },
    {
      "metadata": {
        "id": "s4pX62t6KDAc",
        "colab_type": "text"
      },
      "cell_type": "markdown",
      "source": [
        "## Imports"
      ]
    },
    {
      "metadata": {
        "id": "NRTUA2VXKDAh",
        "colab_type": "code",
        "colab": {
          "autoexec": {
            "startup": false,
            "wait_interval": 0
          }
        }
      },
      "cell_type": "code",
      "source": [
        "%matplotlib inline\n",
        "import matplotlib.pyplot as plt\n",
        "import tensorflow as tf\n",
        "import numpy as np\n",
        "import time\n",
        "from datetime import timedelta\n",
        "import os\n",
        "\n",
        "# Functions and classes for loading and using the Inception model.\n",
        "import inception\n",
        "\n",
        "# We use Pretty Tensor to define the new classifier.\n",
        "import prettytensor as pt"
      ],
      "execution_count": 0,
      "outputs": []
    },
    {
      "metadata": {
        "id": "bxol70oHK5Yu",
        "colab_type": "code",
        "colab": {
          "autoexec": {
            "startup": false,
            "wait_interval": 0
          },
          "base_uri": "https://localhost:8080/",
          "height": 69
        },
        "outputId": "f6cc76a7-40ad-4913-c76b-5356c99f3164",
        "executionInfo": {
          "status": "ok",
          "timestamp": 1528308149498,
          "user_tz": -330,
          "elapsed": 2952,
          "user": {
            "displayName": "Iresh Mishra",
            "photoUrl": "https://lh3.googleusercontent.com/a/default-user=s128",
            "userId": "113084233984419493374"
          }
        }
      },
      "cell_type": "code",
      "source": [
        "!pip install prettytensor"
      ],
      "execution_count": 7,
      "outputs": [
        {
          "output_type": "stream",
          "text": [
            "Requirement already satisfied: prettytensor in /usr/local/lib/python3.6/dist-packages (0.7.4)\r\n",
            "Requirement already satisfied: enum34>=1.0.0 in /usr/local/lib/python3.6/dist-packages (from prettytensor) (1.1.6)\r\n",
            "Requirement already satisfied: six>=1.10.0 in /usr/local/lib/python3.6/dist-packages (from prettytensor) (1.11.0)\r\n"
          ],
          "name": "stdout"
        }
      ]
    },
    {
      "metadata": {
        "id": "Yt78k2MsKDAx",
        "colab_type": "text"
      },
      "cell_type": "markdown",
      "source": [
        "This was developed using Python 3.5.2 (Anaconda) and TensorFlow version:"
      ]
    },
    {
      "metadata": {
        "id": "zdzFplCGKDA0",
        "colab_type": "code",
        "colab": {
          "autoexec": {
            "startup": false,
            "wait_interval": 0
          },
          "base_uri": "https://localhost:8080/",
          "height": 34
        },
        "outputId": "ecdddb1f-4fb3-4ce9-989e-022299c82149",
        "executionInfo": {
          "status": "ok",
          "timestamp": 1528308122791,
          "user_tz": -330,
          "elapsed": 1476,
          "user": {
            "displayName": "Iresh Mishra",
            "photoUrl": "https://lh3.googleusercontent.com/a/default-user=s128",
            "userId": "113084233984419493374"
          }
        }
      },
      "cell_type": "code",
      "source": [
        "tf.__version__"
      ],
      "execution_count": 4,
      "outputs": [
        {
          "output_type": "execute_result",
          "data": {
            "text/plain": [
              "'1.8.0'"
            ]
          },
          "metadata": {
            "tags": []
          },
          "execution_count": 4
        }
      ]
    },
    {
      "metadata": {
        "id": "qkttD-n11-th",
        "colab_type": "code",
        "colab": {
          "autoexec": {
            "startup": false,
            "wait_interval": 0
          }
        }
      },
      "cell_type": "code",
      "source": [
        "%matplotlib inline\n",
        "import matplotlib.pyplot as plt\n",
        "import tensorflow as tf\n",
        "import numpy as np\n",
        "import time\n",
        "from datetime import timedelta\n",
        "import os\n",
        "\n",
        "# Functions and classes for loading and using the Inception model.\n",
        "import inception\n",
        "\n",
        "# We use Pretty Tensor to define the new classifier.\n",
        "import prettytensor as pt"
      ],
      "execution_count": 0,
      "outputs": []
    },
    {
      "metadata": {
        "id": "Rf73mYchKDBH",
        "colab_type": "text"
      },
      "cell_type": "markdown",
      "source": [
        "PrettyTensor version:"
      ]
    },
    {
      "metadata": {
        "id": "38IkbHHtKDBM",
        "colab_type": "code",
        "colab": {
          "autoexec": {
            "startup": false,
            "wait_interval": 0
          },
          "base_uri": "https://localhost:8080/",
          "height": 34
        },
        "outputId": "03b35e9c-902a-41e8-fa75-568674c48d02",
        "executionInfo": {
          "status": "ok",
          "timestamp": 1528309040606,
          "user_tz": -330,
          "elapsed": 1047,
          "user": {
            "displayName": "Iresh Mishra",
            "photoUrl": "https://lh3.googleusercontent.com/a/default-user=s128",
            "userId": "113084233984419493374"
          }
        }
      },
      "cell_type": "code",
      "source": [
        "pt.__version__"
      ],
      "execution_count": 8,
      "outputs": [
        {
          "output_type": "execute_result",
          "data": {
            "text/plain": [
              "'0.7.4'"
            ]
          },
          "metadata": {
            "tags": []
          },
          "execution_count": 8
        }
      ]
    },
    {
      "metadata": {
        "id": "MF4YtOLrLI7D",
        "colab_type": "code",
        "colab": {
          "autoexec": {
            "startup": false,
            "wait_interval": 0
          },
          "base_uri": "https://localhost:8080/",
          "height": 34
        },
        "outputId": "4cfa4a4b-9a67-48d5-f315-9a333a750a21",
        "executionInfo": {
          "status": "ok",
          "timestamp": 1528301099830,
          "user_tz": -330,
          "elapsed": 2232,
          "user": {
            "displayName": "Iresh Mishra",
            "photoUrl": "https://lh3.googleusercontent.com/a/default-user=s128",
            "userId": "113084233984419493374"
          }
        }
      },
      "cell_type": "code",
      "source": [
        "!ls"
      ],
      "execution_count": 10,
      "outputs": [
        {
          "output_type": "stream",
          "text": [
            "datalab\r\n"
          ],
          "name": "stdout"
        }
      ]
    },
    {
      "metadata": {
        "id": "QCT_7oAWBD5C",
        "colab_type": "code",
        "colab": {
          "autoexec": {
            "startup": false,
            "wait_interval": 0
          }
        }
      },
      "cell_type": "code",
      "source": [
        ""
      ],
      "execution_count": 0,
      "outputs": []
    },
    {
      "metadata": {
        "id": "pj60V7z6KDBf",
        "colab_type": "text"
      },
      "cell_type": "markdown",
      "source": [
        "## Load Data for CIFAR-10 "
      ]
    },
    {
      "metadata": {
        "id": "DGwCGTpcKDBm",
        "colab_type": "code",
        "colab": {
          "autoexec": {
            "startup": false,
            "wait_interval": 0
          }
        }
      },
      "cell_type": "code",
      "source": [
        "import cifar10"
      ],
      "execution_count": 0,
      "outputs": []
    },
    {
      "metadata": {
        "id": "GELIh1Fb2LDX",
        "colab_type": "code",
        "colab": {
          "autoexec": {
            "startup": false,
            "wait_interval": 0
          },
          "base_uri": "https://localhost:8080/",
          "height": 225
        },
        "outputId": "923bed35-aa9b-4457-ac88-29e7abe44429",
        "executionInfo": {
          "status": "ok",
          "timestamp": 1528301144829,
          "user_tz": -330,
          "elapsed": 4334,
          "user": {
            "displayName": "Iresh Mishra",
            "photoUrl": "https://lh3.googleusercontent.com/a/default-user=s128",
            "userId": "113084233984419493374"
          }
        }
      },
      "cell_type": "code",
      "source": [
        "!wget https://raw.githubusercontent.com/Hvass-Labs/TensorFlow-Tutorials/master/cifar10.py\n",
        "!ls"
      ],
      "execution_count": 13,
      "outputs": [
        {
          "output_type": "stream",
          "text": [
            "--2018-06-06 16:05:42--  https://raw.githubusercontent.com/Hvass-Labs/TensorFlow-Tutorials/master/cifar10.py\r\n",
            "Resolving raw.githubusercontent.com (raw.githubusercontent.com)... 151.101.0.133, 151.101.64.133, 151.101.128.133, ...\n",
            "Connecting to raw.githubusercontent.com (raw.githubusercontent.com)|151.101.0.133|:443... connected.\n",
            "HTTP request sent, awaiting response... 200 OK\n",
            "Length: 7066 (6.9K) [text/plain]\n",
            "Saving to: ‘cifar10.py’\n",
            "\n",
            "cifar10.py          100%[===================>]   6.90K  --.-KB/s    in 0s      \n",
            "\n",
            "2018-06-06 16:05:42 (78.6 MB/s) - ‘cifar10.py’ saved [7066/7066]\n",
            "\n",
            "cifar10.py  datalab\n"
          ],
          "name": "stdout"
        }
      ]
    },
    {
      "metadata": {
        "id": "x8yMRvAjCkkW",
        "colab_type": "code",
        "colab": {
          "autoexec": {
            "startup": false,
            "wait_interval": 0
          },
          "base_uri": "https://localhost:8080/",
          "height": 225
        },
        "outputId": "adc47bab-7383-46f1-f0d6-3fdf75a1acf9",
        "executionInfo": {
          "status": "ok",
          "timestamp": 1528301154603,
          "user_tz": -330,
          "elapsed": 3921,
          "user": {
            "displayName": "Iresh Mishra",
            "photoUrl": "https://lh3.googleusercontent.com/a/default-user=s128",
            "userId": "113084233984419493374"
          }
        }
      },
      "cell_type": "code",
      "source": [
        "!wget https://raw.githubusercontent.com/Hvass-Labs/TensorFlow-Tutorials/master/download.py\n",
        "!ls"
      ],
      "execution_count": 14,
      "outputs": [
        {
          "output_type": "stream",
          "text": [
            "--2018-06-06 16:05:52--  https://raw.githubusercontent.com/Hvass-Labs/TensorFlow-Tutorials/master/download.py\r\n",
            "Resolving raw.githubusercontent.com (raw.githubusercontent.com)... 151.101.0.133, 151.101.64.133, 151.101.128.133, ...\r\n",
            "Connecting to raw.githubusercontent.com (raw.githubusercontent.com)|151.101.0.133|:443... connected.\n",
            "HTTP request sent, awaiting response... 200 OK\n",
            "Length: 3161 (3.1K) [text/plain]\n",
            "Saving to: ‘download.py’\n",
            "\n",
            "download.py         100%[===================>]   3.09K  --.-KB/s    in 0s      \n",
            "\n",
            "2018-06-06 16:05:52 (46.2 MB/s) - ‘download.py’ saved [3161/3161]\n",
            "\n",
            "cifar10.py  datalab  download.py\n"
          ],
          "name": "stdout"
        }
      ]
    },
    {
      "metadata": {
        "id": "3IEdFWmDCkep",
        "colab_type": "code",
        "colab": {
          "autoexec": {
            "startup": false,
            "wait_interval": 0
          }
        }
      },
      "cell_type": "code",
      "source": [
        "import cifar10"
      ],
      "execution_count": 0,
      "outputs": []
    },
    {
      "metadata": {
        "id": "8p5ewS1uCkXv",
        "colab_type": "code",
        "colab": {
          "autoexec": {
            "startup": false,
            "wait_interval": 0
          },
          "base_uri": "https://localhost:8080/",
          "height": 34
        },
        "outputId": "5655effd-80fb-40a8-833e-b7d0bf62e807",
        "executionInfo": {
          "status": "ok",
          "timestamp": 1528287962765,
          "user_tz": -330,
          "elapsed": 3278,
          "user": {
            "displayName": "Iresh Mishra",
            "photoUrl": "https://lh3.googleusercontent.com/a/default-user=s128",
            "userId": "113084233984419493374"
          }
        }
      },
      "cell_type": "code",
      "source": [
        "! pip install urllib3 "
      ],
      "execution_count": 0,
      "outputs": [
        {
          "output_type": "stream",
          "text": [
            "Requirement already satisfied: urllib3 in /usr/local/lib/python2.7/dist-packages (1.22)\r\n"
          ],
          "name": "stdout"
        }
      ]
    },
    {
      "metadata": {
        "id": "0hCzZwmJCkUQ",
        "colab_type": "code",
        "colab": {
          "autoexec": {
            "startup": false,
            "wait_interval": 0
          },
          "base_uri": "https://localhost:8080/",
          "height": 34
        },
        "outputId": "b38d4f6f-9e29-4344-ed9a-295cc49779cf",
        "executionInfo": {
          "status": "ok",
          "timestamp": 1528288091778,
          "user_tz": -330,
          "elapsed": 2152,
          "user": {
            "displayName": "Iresh Mishra",
            "photoUrl": "https://lh3.googleusercontent.com/a/default-user=s128",
            "userId": "113084233984419493374"
          }
        }
      },
      "cell_type": "code",
      "source": [
        "# Changed to Python 3\n",
        "!ls"
      ],
      "execution_count": 0,
      "outputs": [
        {
          "output_type": "stream",
          "text": [
            "cifar10.py  cifar10.py.1  cifar10.pyc  datalab\tdownload.py  download.pyc\r\n"
          ],
          "name": "stdout"
        }
      ]
    },
    {
      "metadata": {
        "id": "xUUdAVAjCkQe",
        "colab_type": "code",
        "colab": {
          "autoexec": {
            "startup": false,
            "wait_interval": 0
          },
          "base_uri": "https://localhost:8080/",
          "height": 427
        },
        "outputId": "8cfb52a5-b9f6-4c74-b969-6506cf28373b",
        "executionInfo": {
          "status": "error",
          "timestamp": 1528288094637,
          "user_tz": -330,
          "elapsed": 1678,
          "user": {
            "displayName": "Iresh Mishra",
            "photoUrl": "https://lh3.googleusercontent.com/a/default-user=s128",
            "userId": "113084233984419493374"
          }
        }
      },
      "cell_type": "code",
      "source": [
        "import cifar10"
      ],
      "execution_count": 0,
      "outputs": [
        {
          "output_type": "error",
          "ename": "ModuleNotFoundError",
          "evalue": "ignored",
          "traceback": [
            "\u001b[0;31m---------------------------------------------------------------------------\u001b[0m",
            "\u001b[0;31mModuleNotFoundError\u001b[0m                       Traceback (most recent call last)",
            "\u001b[0;32m<ipython-input-3-7a05e1868d00>\u001b[0m in \u001b[0;36m<module>\u001b[0;34m()\u001b[0m\n\u001b[0;32m----> 1\u001b[0;31m \u001b[0;32mimport\u001b[0m \u001b[0mcifar10\u001b[0m\u001b[0;34m\u001b[0m\u001b[0m\n\u001b[0m",
            "\u001b[0;32m/content/cifar10.py\u001b[0m in \u001b[0;36m<module>\u001b[0;34m()\u001b[0m\n\u001b[1;32m     37\u001b[0m \u001b[0;32mimport\u001b[0m \u001b[0mos\u001b[0m\u001b[0;34m\u001b[0m\u001b[0m\n\u001b[1;32m     38\u001b[0m \u001b[0;32mimport\u001b[0m \u001b[0mdownload\u001b[0m\u001b[0;34m\u001b[0m\u001b[0m\n\u001b[0;32m---> 39\u001b[0;31m \u001b[0;32mfrom\u001b[0m \u001b[0mdataset\u001b[0m \u001b[0;32mimport\u001b[0m \u001b[0mone_hot_encoded\u001b[0m\u001b[0;34m\u001b[0m\u001b[0m\n\u001b[0m\u001b[1;32m     40\u001b[0m \u001b[0;34m\u001b[0m\u001b[0m\n\u001b[1;32m     41\u001b[0m \u001b[0;31m########################################################################\u001b[0m\u001b[0;34m\u001b[0m\u001b[0;34m\u001b[0m\u001b[0m\n",
            "\u001b[0;31mModuleNotFoundError\u001b[0m: No module named 'dataset'",
            "",
            "\u001b[0;31m---------------------------------------------------------------------------\u001b[0;32m\nNOTE: If your import is failing due to a missing package, you can\nmanually install dependencies using either !pip or !apt.\n\nTo view examples of installing some common dependencies, click the\n\"Open Examples\" button below.\n\u001b[0;31m---------------------------------------------------------------------------\u001b[0m\n"
          ]
        }
      ]
    },
    {
      "metadata": {
        "id": "PsRPlQ1qCj82",
        "colab_type": "code",
        "colab": {
          "autoexec": {
            "startup": false,
            "wait_interval": 0
          },
          "base_uri": "https://localhost:8080/",
          "height": 225
        },
        "outputId": "c453cb7f-5d69-4358-a411-afaf54691cea",
        "executionInfo": {
          "status": "ok",
          "timestamp": 1528301176880,
          "user_tz": -330,
          "elapsed": 3510,
          "user": {
            "displayName": "Iresh Mishra",
            "photoUrl": "https://lh3.googleusercontent.com/a/default-user=s128",
            "userId": "113084233984419493374"
          }
        }
      },
      "cell_type": "code",
      "source": [
        "!wget https://raw.githubusercontent.com/Hvass-Labs/TensorFlow-Tutorials/master/dataset.py\n",
        "!ls"
      ],
      "execution_count": 16,
      "outputs": [
        {
          "output_type": "stream",
          "text": [
            "--2018-06-06 16:06:14--  https://raw.githubusercontent.com/Hvass-Labs/TensorFlow-Tutorials/master/dataset.py\r\n",
            "Resolving raw.githubusercontent.com (raw.githubusercontent.com)... 151.101.0.133, 151.101.64.133, 151.101.128.133, ...\r\n",
            "Connecting to raw.githubusercontent.com (raw.githubusercontent.com)|151.101.0.133|:443... connected.\n",
            "HTTP request sent, awaiting response... 200 OK\n",
            "Length: 12156 (12K) [text/plain]\n",
            "Saving to: ‘dataset.py’\n",
            "\n",
            "dataset.py          100%[===================>]  11.87K  --.-KB/s    in 0.001s  \n",
            "\n",
            "2018-06-06 16:06:14 (22.2 MB/s) - ‘dataset.py’ saved [12156/12156]\n",
            "\n",
            "cifar10.py  datalab  dataset.py  download.py  __pycache__\n"
          ],
          "name": "stdout"
        }
      ]
    },
    {
      "metadata": {
        "id": "Q5-vJTseEunj",
        "colab_type": "code",
        "colab": {
          "autoexec": {
            "startup": false,
            "wait_interval": 0
          },
          "base_uri": "https://localhost:8080/",
          "height": 225
        },
        "outputId": "5a1b33e3-8d31-4229-e39f-8ec695418116",
        "executionInfo": {
          "status": "ok",
          "timestamp": 1528301190880,
          "user_tz": -330,
          "elapsed": 4392,
          "user": {
            "displayName": "Iresh Mishra",
            "photoUrl": "https://lh3.googleusercontent.com/a/default-user=s128",
            "userId": "113084233984419493374"
          }
        }
      },
      "cell_type": "code",
      "source": [
        "!wget https://raw.githubusercontent.com/Hvass-Labs/TensorFlow-Tutorials/master/cache.py\n",
        "!ls"
      ],
      "execution_count": 18,
      "outputs": [
        {
          "output_type": "stream",
          "text": [
            "--2018-06-06 16:06:27--  https://raw.githubusercontent.com/Hvass-Labs/TensorFlow-Tutorials/master/cache.py\r\n",
            "Resolving raw.githubusercontent.com (raw.githubusercontent.com)... 151.101.0.133, 151.101.64.133, 151.101.128.133, ...\r\n",
            "Connecting to raw.githubusercontent.com (raw.githubusercontent.com)|151.101.0.133|:443... connected.\n",
            "HTTP request sent, awaiting response... 200 OK\n",
            "Length: 4764 (4.7K) [text/plain]\n",
            "Saving to: ‘cache.py’\n",
            "\n",
            "cache.py            100%[===================>]   4.65K  --.-KB/s    in 0s      \n",
            "\n",
            "2018-06-06 16:06:28 (23.0 MB/s) - ‘cache.py’ saved [4764/4764]\n",
            "\n",
            "cache.py  cifar10.py  datalab  dataset.py  download.py\t__pycache__\n"
          ],
          "name": "stdout"
        }
      ]
    },
    {
      "metadata": {
        "id": "TfFp3CZOEuiY",
        "colab_type": "code",
        "colab": {
          "autoexec": {
            "startup": false,
            "wait_interval": 0
          }
        }
      },
      "cell_type": "code",
      "source": [
        "import cifar10"
      ],
      "execution_count": 0,
      "outputs": []
    },
    {
      "metadata": {
        "id": "ZJOo0sRZFqBh",
        "colab_type": "text"
      },
      "cell_type": "markdown",
      "source": [
        "## Arre waah!..chal gya.. {-----*Itni khushi!! :') :')' *-----}"
      ]
    },
    {
      "metadata": {
        "id": "dKuS2HicEuUD",
        "colab_type": "code",
        "colab": {
          "autoexec": {
            "startup": false,
            "wait_interval": 0
          },
          "base_uri": "https://localhost:8080/",
          "height": 34
        },
        "outputId": "e99cd083-07a6-4b7f-cbac-bf446abbe882",
        "executionInfo": {
          "status": "ok",
          "timestamp": 1528301210679,
          "user_tz": -330,
          "elapsed": 3550,
          "user": {
            "displayName": "Iresh Mishra",
            "photoUrl": "https://lh3.googleusercontent.com/a/default-user=s128",
            "userId": "113084233984419493374"
          }
        }
      },
      "cell_type": "code",
      "source": [
        "!mkdir data_cifar\n",
        "!ls"
      ],
      "execution_count": 20,
      "outputs": [
        {
          "output_type": "stream",
          "text": [
            "cache.py  cifar10.py  data_cifar  datalab  dataset.py  download.py  __pycache__\r\n"
          ],
          "name": "stdout"
        }
      ]
    },
    {
      "metadata": {
        "id": "GtYdyB3pEuP9",
        "colab_type": "code",
        "colab": {
          "autoexec": {
            "startup": false,
            "wait_interval": 0
          }
        }
      },
      "cell_type": "code",
      "source": [
        ""
      ],
      "execution_count": 0,
      "outputs": []
    },
    {
      "metadata": {
        "id": "2ZyU9Xn8KDB1",
        "colab_type": "code",
        "colab": {
          "autoexec": {
            "startup": false,
            "wait_interval": 0
          }
        }
      },
      "cell_type": "code",
      "source": [
        "from cifar10 import num_classes"
      ],
      "execution_count": 0,
      "outputs": []
    },
    {
      "metadata": {
        "id": "-8zK1gV8KDCH",
        "colab_type": "text"
      },
      "cell_type": "markdown",
      "source": [
        "Set the path for storing the data-set on your computer."
      ]
    },
    {
      "metadata": {
        "id": "RlfFabkUKDCS",
        "colab_type": "code",
        "colab": {
          "autoexec": {
            "startup": false,
            "wait_interval": 0
          }
        }
      },
      "cell_type": "code",
      "source": [
        "cifar10.data_path = \"data_cifar/\""
      ],
      "execution_count": 0,
      "outputs": []
    },
    {
      "metadata": {
        "id": "Jv8Ybw-yKDCb",
        "colab_type": "text"
      },
      "cell_type": "markdown",
      "source": [
        "The CIFAR-10 data-set is about 163 MB and will be downloaded automatically if it is not located in the given path."
      ]
    },
    {
      "metadata": {
        "id": "0f6Lg36vKDCe",
        "colab_type": "code",
        "colab": {
          "autoexec": {
            "startup": false,
            "wait_interval": 0
          },
          "base_uri": "https://localhost:8080/",
          "height": 34
        },
        "outputId": "8665abd0-edd0-400e-9f35-56b466b56861",
        "executionInfo": {
          "status": "ok",
          "timestamp": 1528309068295,
          "user_tz": -330,
          "elapsed": 1256,
          "user": {
            "displayName": "Iresh Mishra",
            "photoUrl": "https://lh3.googleusercontent.com/a/default-user=s128",
            "userId": "113084233984419493374"
          }
        }
      },
      "cell_type": "code",
      "source": [
        "cifar10.maybe_download_and_extract()"
      ],
      "execution_count": 12,
      "outputs": [
        {
          "output_type": "stream",
          "text": [
            "Data has apparently already been downloaded and unpacked.\n"
          ],
          "name": "stdout"
        }
      ]
    },
    {
      "metadata": {
        "id": "RkWbek3CKDCz",
        "colab_type": "text"
      },
      "cell_type": "markdown",
      "source": [
        "Load the class-names."
      ]
    },
    {
      "metadata": {
        "id": "aSNkUA32KDC4",
        "colab_type": "code",
        "colab": {
          "autoexec": {
            "startup": false,
            "wait_interval": 0
          },
          "base_uri": "https://localhost:8080/",
          "height": 208
        },
        "outputId": "d395e419-ecfc-4541-dde0-569b898e347d",
        "executionInfo": {
          "status": "ok",
          "timestamp": 1528309070478,
          "user_tz": -330,
          "elapsed": 1285,
          "user": {
            "displayName": "Iresh Mishra",
            "photoUrl": "https://lh3.googleusercontent.com/a/default-user=s128",
            "userId": "113084233984419493374"
          }
        }
      },
      "cell_type": "code",
      "source": [
        "class_names = cifar10.load_class_names()\n",
        "class_names"
      ],
      "execution_count": 13,
      "outputs": [
        {
          "output_type": "stream",
          "text": [
            "Loading data: data_cifar/cifar-10-batches-py/batches.meta\n"
          ],
          "name": "stdout"
        },
        {
          "output_type": "execute_result",
          "data": {
            "text/plain": [
              "['airplane',\n",
              " 'automobile',\n",
              " 'bird',\n",
              " 'cat',\n",
              " 'deer',\n",
              " 'dog',\n",
              " 'frog',\n",
              " 'horse',\n",
              " 'ship',\n",
              " 'truck']"
            ]
          },
          "metadata": {
            "tags": []
          },
          "execution_count": 13
        }
      ]
    },
    {
      "metadata": {
        "id": "kBp9BeOgKDDI",
        "colab_type": "text"
      },
      "cell_type": "markdown",
      "source": [
        "Load the training-set. This returns the images, the class-numbers as integers, and the class-numbers as One-Hot encoded arrays called labels."
      ]
    },
    {
      "metadata": {
        "id": "UIYeEKivKDDM",
        "colab_type": "code",
        "colab": {
          "autoexec": {
            "startup": false,
            "wait_interval": 0
          },
          "base_uri": "https://localhost:8080/",
          "height": 104
        },
        "outputId": "c52dca8e-d114-4eb3-a1f6-8e0f60aaf40a",
        "executionInfo": {
          "status": "ok",
          "timestamp": 1528309075252,
          "user_tz": -330,
          "elapsed": 2844,
          "user": {
            "displayName": "Iresh Mishra",
            "photoUrl": "https://lh3.googleusercontent.com/a/default-user=s128",
            "userId": "113084233984419493374"
          }
        }
      },
      "cell_type": "code",
      "source": [
        "images_train, cls_train, labels_train = cifar10.load_training_data()"
      ],
      "execution_count": 14,
      "outputs": [
        {
          "output_type": "stream",
          "text": [
            "Loading data: data_cifar/cifar-10-batches-py/data_batch_1\n",
            "Loading data: data_cifar/cifar-10-batches-py/data_batch_2\n",
            "Loading data: data_cifar/cifar-10-batches-py/data_batch_3\n",
            "Loading data: data_cifar/cifar-10-batches-py/data_batch_4\n",
            "Loading data: data_cifar/cifar-10-batches-py/data_batch_5\n"
          ],
          "name": "stdout"
        }
      ]
    },
    {
      "metadata": {
        "id": "J8_3eyyAKDDe",
        "colab_type": "text"
      },
      "cell_type": "markdown",
      "source": [
        "Load the test-set."
      ]
    },
    {
      "metadata": {
        "id": "LihhJB43KDDg",
        "colab_type": "code",
        "colab": {
          "autoexec": {
            "startup": false,
            "wait_interval": 0
          },
          "base_uri": "https://localhost:8080/",
          "height": 34
        },
        "outputId": "70ec9980-fd7e-4588-de31-fdba5b5f3c41",
        "executionInfo": {
          "status": "ok",
          "timestamp": 1528309076609,
          "user_tz": -330,
          "elapsed": 1194,
          "user": {
            "displayName": "Iresh Mishra",
            "photoUrl": "https://lh3.googleusercontent.com/a/default-user=s128",
            "userId": "113084233984419493374"
          }
        }
      },
      "cell_type": "code",
      "source": [
        "images_test, cls_test, labels_test = cifar10.load_test_data()"
      ],
      "execution_count": 15,
      "outputs": [
        {
          "output_type": "stream",
          "text": [
            "Loading data: data_cifar/cifar-10-batches-py/test_batch\n"
          ],
          "name": "stdout"
        }
      ]
    },
    {
      "metadata": {
        "id": "37-2cC5SKDDt",
        "colab_type": "text"
      },
      "cell_type": "markdown",
      "source": [
        "The CIFAR-10 data-set has now been loaded and consists of 60,000 images and associated labels (i.e. classifications of the images). The data-set is split into 2 mutually exclusive sub-sets, the training-set and the test-set."
      ]
    },
    {
      "metadata": {
        "id": "FCwrdIgPKDD4",
        "colab_type": "code",
        "colab": {
          "autoexec": {
            "startup": false,
            "wait_interval": 0
          },
          "base_uri": "https://localhost:8080/",
          "height": 69
        },
        "outputId": "b355f45b-9a7b-4e80-d5c4-417f6c8ac967",
        "executionInfo": {
          "status": "ok",
          "timestamp": 1528309078715,
          "user_tz": -330,
          "elapsed": 1094,
          "user": {
            "displayName": "Iresh Mishra",
            "photoUrl": "https://lh3.googleusercontent.com/a/default-user=s128",
            "userId": "113084233984419493374"
          }
        }
      },
      "cell_type": "code",
      "source": [
        "\n",
        "print(\"Size of:\")\n",
        "print(\"- Training-set:\\t\\t{}\".format(len(images_train)))\n",
        "print(\"- Test-set:\\t\\t{}\".format(len(images_test)))"
      ],
      "execution_count": 16,
      "outputs": [
        {
          "output_type": "stream",
          "text": [
            "Size of:\n",
            "- Training-set:\t\t50000\n",
            "- Test-set:\t\t10000\n"
          ],
          "name": "stdout"
        }
      ]
    },
    {
      "metadata": {
        "id": "E5l8OIV4KDER",
        "colab_type": "text"
      },
      "cell_type": "markdown",
      "source": [
        "### Helper-function for plotting images"
      ]
    },
    {
      "metadata": {
        "id": "pyUERzD7KDEk",
        "colab_type": "text"
      },
      "cell_type": "markdown",
      "source": [
        "Function used to plot at most 9 images in a 3x3 grid, and writing the true and predicted classes below each image."
      ]
    },
    {
      "metadata": {
        "id": "zT7VWY_6KDEr",
        "colab_type": "code",
        "colab": {
          "autoexec": {
            "startup": false,
            "wait_interval": 0
          }
        }
      },
      "cell_type": "code",
      "source": [
        "def plot_images(images, cls_true, cls_pred=None, smooth=True):\n",
        "\n",
        "    assert len(images) == len(cls_true)\n",
        "\n",
        "    # Create figure with sub-plots.\n",
        "    fig, axes = plt.subplots(3, 3)\n",
        "\n",
        "    # Adjust vertical spacing.\n",
        "    if cls_pred is None:\n",
        "        hspace = 0.3\n",
        "    else:\n",
        "        hspace = 0.6\n",
        "    fig.subplots_adjust(hspace=hspace, wspace=0.3)\n",
        "\n",
        "    # Interpolation type.\n",
        "    if smooth:\n",
        "        interpolation = 'spline16'\n",
        "    else:\n",
        "        interpolation = 'nearest'\n",
        "\n",
        "    for i, ax in enumerate(axes.flat):\n",
        "        # There may be less than 9 images, ensure it doesn't crash.\n",
        "        if i < len(images):\n",
        "            # Plot image.\n",
        "            ax.imshow(images[i],\n",
        "                      interpolation=interpolation)\n",
        "\n",
        "            # Name of the true class.\n",
        "            cls_true_name = class_names[cls_true[i]]\n",
        "\n",
        "            # Show true and predicted classes.\n",
        "            if cls_pred is None:\n",
        "                xlabel = \"True: {0}\".format(cls_true_name)\n",
        "            else:\n",
        "                # Name of the predicted class.\n",
        "                cls_pred_name = class_names[cls_pred[i]]\n",
        "\n",
        "                xlabel = \"True: {0}\\nPred: {1}\".format(cls_true_name, cls_pred_name)\n",
        "\n",
        "            # Show the classes as the label on the x-axis.\n",
        "            ax.set_xlabel(xlabel)\n",
        "        \n",
        "        # Remove ticks from the plot.\n",
        "        ax.set_xticks([])\n",
        "        ax.set_yticks([])\n",
        "    \n",
        "    # Ensure the plot is shown correctly with multiple plots\n",
        "    # in a single Notebook cell.\n",
        "    plt.show()"
      ],
      "execution_count": 0,
      "outputs": []
    },
    {
      "metadata": {
        "id": "TrBjzGmyKDE_",
        "colab_type": "text"
      },
      "cell_type": "markdown",
      "source": [
        "### Plot a few images to see if data is correct"
      ]
    },
    {
      "metadata": {
        "id": "BU9udSM5KDFC",
        "colab_type": "code",
        "colab": {
          "autoexec": {
            "startup": false,
            "wait_interval": 0
          },
          "base_uri": "https://localhost:8080/",
          "height": 262
        },
        "outputId": "56486c2a-80c5-4b5d-c857-430faedc3558",
        "executionInfo": {
          "status": "ok",
          "timestamp": 1528309083938,
          "user_tz": -330,
          "elapsed": 1605,
          "user": {
            "displayName": "Iresh Mishra",
            "photoUrl": "https://lh3.googleusercontent.com/a/default-user=s128",
            "userId": "113084233984419493374"
          }
        }
      },
      "cell_type": "code",
      "source": [
        "# Get the first images from the test-set.\n",
        "images = images_test[0:9]\n",
        "\n",
        "# Get the true classes for those images.\n",
        "cls_true = cls_test[0:9]\n",
        "\n",
        "# Plot the images and labels using our helper-function above.\n",
        "plot_images(images=images, cls_true=cls_true, smooth=False)"
      ],
      "execution_count": 18,
      "outputs": [
        {
          "output_type": "display_data",
          "data": {
            "image/png": "[encoded data removed]",
            "text/plain": [
              "<matplotlib.figure.Figure at 0x7eff1dd49ba8>"
            ]
          },
          "metadata": {
            "tags": []
          }
        }
      ]
    },
    {
      "metadata": {
        "id": "dovF_OcIKDFT",
        "colab_type": "text"
      },
      "cell_type": "markdown",
      "source": [
        "## Download the Inception Model"
      ]
    },
    {
      "metadata": {
        "id": "CrPUKAfsKDFX",
        "colab_type": "text"
      },
      "cell_type": "markdown",
      "source": [
        "The Inception model is downloaded from the internet. This is the default directory where you want to save the data-files. The directory will be created if it does not exist."
      ]
    },
    {
      "metadata": {
        "id": "aQliQb57KDFj",
        "colab_type": "code",
        "colab": {
          "autoexec": {
            "startup": false,
            "wait_interval": 0
          }
        }
      },
      "cell_type": "code",
      "source": [
        "inception.data_dir = 'inception/'"
      ],
      "execution_count": 0,
      "outputs": []
    },
    {
      "metadata": {
        "id": "1qjgVBKzKDF7",
        "colab_type": "text"
      },
      "cell_type": "markdown",
      "source": [
        "Download the data for the Inception model if it doesn't already exist in the directory. It is 85 MB.\n",
        "\n",
        "---"
      ]
    },
    {
      "metadata": {
        "id": "MKQmdWrGKDGC",
        "colab_type": "code",
        "colab": {
          "autoexec": {
            "startup": false,
            "wait_interval": 0
          },
          "base_uri": "https://localhost:8080/",
          "height": 52
        },
        "outputId": "6c2db51c-4080-450b-b108-d3e824704413",
        "executionInfo": {
          "status": "ok",
          "timestamp": 1528309089150,
          "user_tz": -330,
          "elapsed": 1230,
          "user": {
            "displayName": "Iresh Mishra",
            "photoUrl": "https://lh3.googleusercontent.com/a/default-user=s128",
            "userId": "113084233984419493374"
          }
        }
      },
      "cell_type": "code",
      "source": [
        "inception.maybe_download()"
      ],
      "execution_count": 20,
      "outputs": [
        {
          "output_type": "stream",
          "text": [
            "Downloading Inception v3 Model ...\n",
            "Data has apparently already been downloaded and unpacked.\n"
          ],
          "name": "stdout"
        }
      ]
    },
    {
      "metadata": {
        "id": "aZ3cuslkI_Hf",
        "colab_type": "code",
        "colab": {
          "autoexec": {
            "startup": false,
            "wait_interval": 0
          },
          "base_uri": "https://localhost:8080/",
          "height": 208
        },
        "outputId": "3242aefc-0a81-459a-db58-5c0dbd92d890",
        "executionInfo": {
          "status": "ok",
          "timestamp": 1528309099740,
          "user_tz": -330,
          "elapsed": 2039,
          "user": {
            "displayName": "Iresh Mishra",
            "photoUrl": "https://lh3.googleusercontent.com/a/default-user=s128",
            "userId": "113084233984419493374"
          }
        }
      },
      "cell_type": "code",
      "source": [
        "!wget https://raw.githubusercontent.com/Hvass-Labs/TensorFlow-Tutorials/master/inception.py"
      ],
      "execution_count": 22,
      "outputs": [
        {
          "output_type": "stream",
          "text": [
            "--2018-06-06 18:18:19--  https://raw.githubusercontent.com/Hvass-Labs/TensorFlow-Tutorials/master/inception.py\r\n",
            "Resolving raw.githubusercontent.com (raw.githubusercontent.com)... 151.101.0.133, 151.101.64.133, 151.101.128.133, ...\r\n",
            "Connecting to raw.githubusercontent.com (raw.githubusercontent.com)|151.101.0.133|:443... connected.\n",
            "HTTP request sent, awaiting response... 200 OK\n",
            "Length: 22187 (22K) [text/plain]\n",
            "Saving to: ‘inception.py.2’\n",
            "\n",
            "inception.py.2      100%[===================>]  21.67K  --.-KB/s    in 0.008s  \n",
            "\n",
            "2018-06-06 18:18:19 (2.81 MB/s) - ‘inception.py.2’ saved [22187/22187]\n",
            "\n"
          ],
          "name": "stdout"
        }
      ]
    },
    {
      "metadata": {
        "id": "qBBIuUNcJHz4",
        "colab_type": "code",
        "colab": {
          "autoexec": {
            "startup": false,
            "wait_interval": 0
          }
        }
      },
      "cell_type": "code",
      "source": [
        "import inception"
      ],
      "execution_count": 0,
      "outputs": []
    },
    {
      "metadata": {
        "id": "VXFsZYGXJMiX",
        "colab_type": "code",
        "colab": {
          "autoexec": {
            "startup": false,
            "wait_interval": 0
          },
          "base_uri": "https://localhost:8080/",
          "height": 86
        },
        "outputId": "373f168a-73d3-440e-85ad-d2d3764f0335",
        "executionInfo": {
          "status": "ok",
          "timestamp": 1528309107625,
          "user_tz": -330,
          "elapsed": 2218,
          "user": {
            "displayName": "Iresh Mishra",
            "photoUrl": "https://lh3.googleusercontent.com/a/default-user=s128",
            "userId": "113084233984419493374"
          }
        }
      },
      "cell_type": "code",
      "source": [
        "inception.maybe_download()\n",
        "!ls"
      ],
      "execution_count": 24,
      "outputs": [
        {
          "output_type": "stream",
          "text": [
            "Downloading Inception v3 Model ...\n",
            "Data has apparently already been downloaded and unpacked.\n",
            "cache.py    data_cifar\tdataset.py   inception\t   inception.py.1  __pycache__\n",
            "cifar10.py  datalab\tdownload.py  inception.py  inception.py.2\n"
          ],
          "name": "stdout"
        }
      ]
    },
    {
      "metadata": {
        "id": "4LzKIH0KKDGN",
        "colab_type": "text"
      },
      "cell_type": "markdown",
      "source": [
        "## Load the Inception Model"
      ]
    },
    {
      "metadata": {
        "id": "pZggbkDhKDGP",
        "colab_type": "text"
      },
      "cell_type": "markdown",
      "source": [
        "Load the Inception model so it is ready for classifying images.\n",
        "\n",
        "Note the deprecation warning, which might cause the program to fail in the future."
      ]
    },
    {
      "metadata": {
        "id": "eELxHmJxKDGP",
        "colab_type": "code",
        "colab": {
          "autoexec": {
            "startup": false,
            "wait_interval": 0
          }
        }
      },
      "cell_type": "code",
      "source": [
        "model = inception.Inception()"
      ],
      "execution_count": 0,
      "outputs": []
    },
    {
      "metadata": {
        "id": "6Ii_9g0FKDGd",
        "colab_type": "text"
      },
      "cell_type": "markdown",
      "source": [
        "## Calculate Transfer-Values"
      ]
    },
    {
      "metadata": {
        "id": "oAzgeT6FKDGe",
        "colab_type": "text"
      },
      "cell_type": "markdown",
      "source": [
        "Import a helper-function for caching the transfer-values of the Inception model."
      ]
    },
    {
      "metadata": {
        "id": "FXtpW2TLKDGg",
        "colab_type": "code",
        "colab": {
          "autoexec": {
            "startup": false,
            "wait_interval": 0
          }
        }
      },
      "cell_type": "code",
      "source": [
        "from inception import transfer_values_cache"
      ],
      "execution_count": 0,
      "outputs": []
    },
    {
      "metadata": {
        "id": "cS3zeE6iKDGq",
        "colab_type": "text"
      },
      "cell_type": "markdown",
      "source": [
        "Set the file-paths for the caches of the training-set and test-set."
      ]
    },
    {
      "metadata": {
        "id": "d3k7FDQXKDGt",
        "colab_type": "code",
        "colab": {
          "autoexec": {
            "startup": false,
            "wait_interval": 0
          }
        }
      },
      "cell_type": "code",
      "source": [
        "file_path_cache_train = os.path.join(cifar10.data_path, 'inception_cifar10_train.pkl')\n",
        "file_path_cache_test = os.path.join(cifar10.data_path, 'inception_cifar10_test.pkl')"
      ],
      "execution_count": 0,
      "outputs": []
    },
    {
      "metadata": {
        "id": "LNSlhaw3KDG0",
        "colab_type": "code",
        "colab": {
          "autoexec": {
            "startup": false,
            "wait_interval": 0
          },
          "base_uri": "https://localhost:8080/",
          "height": 69
        },
        "outputId": "685efaae-8692-490b-e0f2-dc532e113b22",
        "executionInfo": {
          "status": "ok",
          "timestamp": 1528312422645,
          "user_tz": -330,
          "elapsed": 3305508,
          "user": {
            "displayName": "Iresh Mishra",
            "photoUrl": "https://lh3.googleusercontent.com/a/default-user=s128",
            "userId": "113084233984419493374"
          }
        }
      },
      "cell_type": "code",
      "source": [
        "print(\"Processing Inception transfer-values for training-images ...\")\n",
        "\n",
        "# Scale images because Inception needs pixels to be between 0 and 255,\n",
        "# while the CIFAR-10 functions return pixels between 0.0 and 1.0\n",
        "images_scaled = images_train * 255.0\n",
        "\n",
        "# If transfer-values have already been calculated then reload them,\n",
        "# otherwise calculate them and save them to a cache-file.\n",
        "transfer_values_train = transfer_values_cache(cache_path=file_path_cache_train,\n",
        "                                              images=images_scaled,\n",
        "                                              model=model)"
      ],
      "execution_count": 28,
      "outputs": [
        {
          "output_type": "stream",
          "text": [
            "Processing Inception transfer-values for training-images ...\n",
            "- Processing image:  50000 / 50000\n"
          ],
          "name": "stdout"
        },
        {
          "output_type": "stream",
          "text": [
            "- Data saved to cache-file: data_cifar/inception_cifar10_train.pkl\n"
          ],
          "name": "stdout"
        }
      ]
    },
    {
      "metadata": {
        "id": "GHbEpX03hWLQ",
        "colab_type": "text"
      },
      "cell_type": "markdown",
      "source": [
        "## Woooooohh.. That took like an hour!"
      ]
    },
    {
      "metadata": {
        "id": "35SkHfS2hpM3",
        "colab_type": "code",
        "colab": {
          "autoexec": {
            "startup": false,
            "wait_interval": 0
          },
          "base_uri": "https://localhost:8080/",
          "height": 34
        },
        "outputId": "1d8468c3-97aa-4985-c857-a7453bc4d9ca",
        "executionInfo": {
          "status": "ok",
          "timestamp": 1528312599550,
          "user_tz": -330,
          "elapsed": 1367,
          "user": {
            "displayName": "Iresh Mishra",
            "photoUrl": "https://lh3.googleusercontent.com/a/default-user=s128",
            "userId": "113084233984419493374"
          }
        }
      },
      "cell_type": "code",
      "source": [
        "import datetime\n",
        "\n",
        "datetime.date.today()"
      ],
      "execution_count": 29,
      "outputs": [
        {
          "output_type": "execute_result",
          "data": {
            "text/plain": [
              "datetime.date(2018, 6, 6)"
            ]
          },
          "metadata": {
            "tags": []
          },
          "execution_count": 29
        }
      ]
    },
    {
      "metadata": {
        "id": "Qzr0a7ZmKDHC",
        "colab_type": "code",
        "colab": {
          "autoexec": {
            "startup": false,
            "wait_interval": 0
          },
          "base_uri": "https://localhost:8080/",
          "height": 270
        },
        "outputId": "42d0262c-80ee-4552-e485-026bb8bd49cd",
        "executionInfo": {
          "status": "error",
          "timestamp": 1528313511249,
          "user_tz": -330,
          "elapsed": 680301,
          "user": {
            "displayName": "Iresh Mishra",
            "photoUrl": "https://lh3.googleusercontent.com/a/default-user=s128",
            "userId": "113084233984419493374"
          }
        }
      },
      "cell_type": "code",
      "source": [
        "import time\n",
        "tic=time.time()\n",
        "print(\"Processing Inception transfer-values for test-images ...\")\n",
        "\n",
        "# Scale images because Inception needs pixels to be between 0 and 255,\n",
        "# while the CIFAR-10 functions return pixels between 0.0 and 1.0\n",
        "images_scaled = images_test * 255.0\n",
        "\n",
        "# If transfer-values have already been calculated then reload them,\n",
        "# otherwise calculate them and save them to a cache-file.\n",
        "transfer_values_test = transfer_values_cache(cache_path=file_path_cache_test,\n",
        "                                             images=images_scaled,\n",
        "                                             model=model)\n",
        "toc=time.time()\n",
        "\n"
      ],
      "execution_count": 30,
      "outputs": [
        {
          "output_type": "stream",
          "text": [
            "Processing Inception transfer-values for test-images ...\n",
            "- Processing image:  10000 / 10000\n"
          ],
          "name": "stdout"
        },
        {
          "output_type": "stream",
          "text": [
            "- Data saved to cache-file: data_cifar/inception_cifar10_test.pkl\n"
          ],
          "name": "stdout"
        },
        {
          "output_type": "error",
          "ename": "TypeError",
          "evalue": "ignored",
          "traceback": [
            "\u001b[0;31m---------------------------------------------------------------------------\u001b[0m",
            "\u001b[0;31mTypeError\u001b[0m                                 Traceback (most recent call last)",
            "\u001b[0;32m<ipython-input-30-1d6008c1cf0f>\u001b[0m in \u001b[0;36m<module>\u001b[0;34m()\u001b[0m\n\u001b[1;32m     14\u001b[0m \u001b[0mtoc\u001b[0m\u001b[0;34m=\u001b[0m\u001b[0mtime\u001b[0m\u001b[0;34m.\u001b[0m\u001b[0mtime\u001b[0m\u001b[0;34m(\u001b[0m\u001b[0;34m)\u001b[0m\u001b[0;34m\u001b[0m\u001b[0m\n\u001b[1;32m     15\u001b[0m \u001b[0;34m\u001b[0m\u001b[0m\n\u001b[0;32m---> 16\u001b[0;31m \u001b[0mprint\u001b[0m\u001b[0;34m(\u001b[0m\u001b[0;34m\"Wooh... That took...... \"\u001b[0m\u001b[0;34m+\u001b[0m\u001b[0;34m(\u001b[0m\u001b[0mtoc\u001b[0m\u001b[0;34m-\u001b[0m\u001b[0mtic\u001b[0m\u001b[0;34m)\u001b[0m \u001b[0;34m)\u001b[0m\u001b[0;34m\u001b[0m\u001b[0m\n\u001b[0m\u001b[1;32m     17\u001b[0m \u001b[0mprint\u001b[0m\u001b[0;34m(\u001b[0m\u001b[0mdatetime\u001b[0m\u001b[0;34m.\u001b[0m\u001b[0mdate\u001b[0m\u001b[0;34m.\u001b[0m\u001b[0mtoday\u001b[0m\u001b[0;34m(\u001b[0m\u001b[0;34m)\u001b[0m\u001b[0;34m)\u001b[0m\u001b[0;34m\u001b[0m\u001b[0m\n",
            "\u001b[0;31mTypeError\u001b[0m: must be str, not float"
          ]
        }
      ]
    },
    {
      "metadata": {
        "id": "fek2PWQXmPvB",
        "colab_type": "code",
        "colab": {
          "autoexec": {
            "startup": false,
            "wait_interval": 0
          },
          "base_uri": "https://localhost:8080/",
          "height": 52
        },
        "outputId": "ba8ae991-de20-45aa-be48-2750ec238d9a",
        "executionInfo": {
          "status": "ok",
          "timestamp": 1528313921784,
          "user_tz": -330,
          "elapsed": 1551,
          "user": {
            "displayName": "Iresh Mishra",
            "photoUrl": "https://lh3.googleusercontent.com/a/default-user=s128",
            "userId": "113084233984419493374"
          }
        }
      },
      "cell_type": "code",
      "source": [
        "print(\"Wooh... That took...... \",(toc-tic),\" Seconds... i.e. \",(toc-tic)/60,\" minutes\" )\n",
        "print(datetime.date.today())"
      ],
      "execution_count": 34,
      "outputs": [
        {
          "output_type": "stream",
          "text": [
            "Wooh... That took......  679.1845524311066  Seconds... i.e.  11.319742540518442  minutes\n",
            "2018-06-06\n"
          ],
          "name": "stdout"
        }
      ]
    }
  ]
}