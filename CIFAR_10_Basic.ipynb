{
  "nbformat": 4,
  "nbformat_minor": 0,
  "metadata": {
    "colab": {
      "name": "CIFAR-10 Basic ",
      "version": "0.3.2",
      "views": {},
      "default_view": {},
      "provenance": [
        {
          "file_id": "1g45r1upFr1-F7NuyV72fPOC-PapqGVqT",
          "timestamp": 1524526510252
        }
      ],
      "collapsed_sections": []
    },
    "kernelspec": {
      "display_name": "Python 3",
      "language": "python",
      "name": "python3"
    },
    "accelerator": "GPU"
  },
  "cells": [
    {
      "metadata": {
        "id": "wzNr8No7JJ-s",
        "colab_type": "text"
      },
      "cell_type": "markdown",
      "source": [
        "## CIFAR-10\n",
        "The CIFAR-10 dataset consists of 60000 32x32 colour images in 10 classes, with 6000 images per class. There are 50000 training images and 10000 test images. \n"
      ]
    },
    {
      "metadata": {
        "id": "50aDFmnLJJ-y",
        "colab_type": "text"
      },
      "cell_type": "markdown",
      "source": [
        "## *Earlier.. I was uploading the data from LOcal machine using the Upload File Code Mentioned in Colab tutorials BUT that was taking way too much time! So i decided to directly Download the Dataset file to Colab using the shebang line*"
      ]
    },
    {
      "metadata": {
        "id": "WXAWNJILyoKI",
        "colab_type": "code",
        "colab": {
          "autoexec": {
            "startup": false,
            "wait_interval": 0
          },
          "base_uri": "https://localhost:8080/",
          "height": 208
        },
        "outputId": "7b6fac57-84f6-4e40-f9b6-25a140f96a18",
        "executionInfo": {
          "status": "ok",
          "timestamp": 1524526862392,
          "user_tz": -330,
          "elapsed": 35460,
          "user": {
            "displayName": "Iresh Mishra",
            "photoUrl": "https://lh3.googleusercontent.com/a/default-user=s128",
            "userId": "113084233984419493374"
          }
        }
      },
      "cell_type": "code",
      "source": [
        "!wget  https://www.cs.toronto.edu/~kriz/cifar-10-python.tar.gz"
      ],
      "execution_count": 1,
      "outputs": [
        {
          "output_type": "stream",
          "text": [
            "--2018-04-23 23:40:24--  https://www.cs.toronto.edu/~kriz/cifar-10-python.tar.gz\r\n",
            "Resolving www.cs.toronto.edu (www.cs.toronto.edu)... 128.100.3.30\n",
            "Connecting to www.cs.toronto.edu (www.cs.toronto.edu)|128.100.3.30|:443... connected.\n",
            "HTTP request sent, awaiting response... 200 OK\n",
            "Length: 170498071 (163M) [application/x-gzip]\n",
            "Saving to: ‘cifar-10-python.tar.gz.5’\n",
            "\n",
            "cifar-10-python.tar 100%[===================>] 162.60M  5.14MB/s    in 32s     \n",
            "\n",
            "2018-04-23 23:40:57 (5.03 MB/s) - ‘cifar-10-python.tar.gz.5’ saved [170498071/170498071]\n",
            "\n"
          ],
          "name": "stdout"
        }
      ]
    },
    {
      "metadata": {
        "id": "a-LwQ1cIc2Gq",
        "colab_type": "code",
        "colab": {
          "autoexec": {
            "startup": false,
            "wait_interval": 0
          },
          "base_uri": "https://localhost:8080/",
          "height": 86
        },
        "outputId": "647f3ad2-2ffc-4a26-a31b-c88e858d2f93",
        "executionInfo": {
          "status": "ok",
          "timestamp": 1524526883816,
          "user_tz": -330,
          "elapsed": 3042,
          "user": {
            "displayName": "Iresh Mishra",
            "photoUrl": "https://lh3.googleusercontent.com/a/default-user=s128",
            "userId": "113084233984419493374"
          }
        }
      },
      "cell_type": "code",
      "source": [
        "!tar -xvzf cifar-10-python.tar.gz.2\n",
        "!pwd\n",
        "!ls\n"
      ],
      "execution_count": 2,
      "outputs": [
        {
          "output_type": "stream",
          "text": [
            "/content\n",
            "cifar-10-batches-py\t  cifar-10-python.tar.gz.2  cifar-10-python.tar.gz.5\n",
            "cifar-10-python.tar.gz\t  cifar-10-python.tar.gz.3  datalab\n",
            "cifar-10-python.tar.gz.1  cifar-10-python.tar.gz.4\n"
          ],
          "name": "stdout"
        }
      ]
    },
    {
      "metadata": {
        "id": "Uh_YB9Hz4oWQ",
        "colab_type": "text"
      },
      "cell_type": "markdown",
      "source": [
        "- IN the above output we had already run the download \"wget\" code therefore we are having multiple copies\n",
        "- We'll use the latest for demo"
      ]
    },
    {
      "metadata": {
        "id": "ty3yawKj4n46",
        "colab_type": "code",
        "colab": {
          "autoexec": {
            "startup": false,
            "wait_interval": 0
          },
          "base_uri": "https://localhost:8080/",
          "height": 34
        },
        "outputId": "b102f8f9-bb48-4837-a471-6a916c3ca5a3",
        "executionInfo": {
          "status": "ok",
          "timestamp": 1524527080740,
          "user_tz": -330,
          "elapsed": 2400,
          "user": {
            "displayName": "Iresh Mishra",
            "photoUrl": "https://lh3.googleusercontent.com/a/default-user=s128",
            "userId": "113084233984419493374"
          }
        }
      },
      "cell_type": "code",
      "source": [
        "!rm cifar-10-batches-py/"
      ],
      "execution_count": 5,
      "outputs": [
        {
          "output_type": "stream",
          "text": [
            "rm: cannot remove 'cifar-10-batches-py/': Is a directory\r\n"
          ],
          "name": "stdout"
        }
      ]
    },
    {
      "metadata": {
        "id": "3GQCzDM_2yHK",
        "colab_type": "code",
        "colab": {
          "autoexec": {
            "startup": false,
            "wait_interval": 0
          },
          "base_uri": "https://localhost:8080/",
          "height": 69
        },
        "outputId": "15f88cb4-5dfa-44cd-8e0a-33b0b2c8524a",
        "executionInfo": {
          "status": "ok",
          "timestamp": 1524527099262,
          "user_tz": -330,
          "elapsed": 1946,
          "user": {
            "displayName": "Iresh Mishra",
            "photoUrl": "https://lh3.googleusercontent.com/a/default-user=s128",
            "userId": "113084233984419493374"
          }
        }
      },
      "cell_type": "code",
      "source": [
        "!ls"
      ],
      "execution_count": 6,
      "outputs": [
        {
          "output_type": "stream",
          "text": [
            "cifar-10-batches-py\t  cifar-10-python.tar.gz.2  cifar-10-python.tar.gz.5\r\n",
            "cifar-10-python.tar.gz\t  cifar-10-python.tar.gz.3  datalab\r\n",
            "cifar-10-python.tar.gz.1  cifar-10-python.tar.gz.4\r\n"
          ],
          "name": "stdout"
        }
      ]
    },
    {
      "metadata": {
        "id": "M-r3MYy65cJK",
        "colab_type": "code",
        "colab": {
          "autoexec": {
            "startup": false,
            "wait_interval": 0
          }
        }
      },
      "cell_type": "code",
      "source": [
        "tar -xvzf community_images.tar.gz"
      ],
      "execution_count": 0,
      "outputs": []
    },
    {
      "metadata": {
        "id": "TTnpiu9JJJ-8",
        "colab_type": "code",
        "colab": {
          "autoexec": {
            "startup": false,
            "wait_interval": 0
          }
        }
      },
      "cell_type": "code",
      "source": [
        "# Put file path as a string here\n",
        "CIFAR_DIR = 'cifar-10-batches-py/'"
      ],
      "execution_count": 0,
      "outputs": []
    },
    {
      "metadata": {
        "id": "q4Y0F0-vJJ_M",
        "colab_type": "text"
      },
      "cell_type": "markdown",
      "source": [
        "The archive contains the files data_batch_1, data_batch_2, ..., data_batch_5, as well as test_batch. Each of these files is a Python \"pickled\" object produced with cPickle. \n",
        "\n",
        "** Load the Data. Use the Code Below to load the data: **"
      ]
    },
    {
      "metadata": {
        "id": "4PMVCgH4JJ_Q",
        "colab_type": "code",
        "colab": {
          "autoexec": {
            "startup": false,
            "wait_interval": 0
          }
        }
      },
      "cell_type": "code",
      "source": [
        "def unpickle(file):\n",
        "    import pickle\n",
        "    with open(file, 'rb') as fo:\n",
        "        cifar_dict = pickle.load(fo, encoding='bytes')\n",
        "    return cifar_dict"
      ],
      "execution_count": 0,
      "outputs": []
    },
    {
      "metadata": {
        "id": "DRl6HeaUJJ_e",
        "colab_type": "code",
        "colab": {
          "autoexec": {
            "startup": false,
            "wait_interval": 0
          }
        }
      },
      "cell_type": "code",
      "source": [
        "dirs = ['batches.meta','data_batch_1','data_batch_2','data_batch_3','data_batch_4','data_batch_5','test_batch']"
      ],
      "execution_count": 0,
      "outputs": []
    },
    {
      "metadata": {
        "id": "0jzgIaLhJJ_m",
        "colab_type": "code",
        "colab": {
          "autoexec": {
            "startup": false,
            "wait_interval": 0
          }
        }
      },
      "cell_type": "code",
      "source": [
        "all_data = [0,1,2,3,4,5,6]"
      ],
      "execution_count": 0,
      "outputs": []
    },
    {
      "metadata": {
        "id": "16NcjbV1JJ_y",
        "colab_type": "code",
        "colab": {
          "autoexec": {
            "startup": false,
            "wait_interval": 0
          }
        }
      },
      "cell_type": "code",
      "source": [
        "for i,direc in zip(all_data,dirs):\n",
        "    all_data[i] = unpickle(CIFAR_DIR+direc)"
      ],
      "execution_count": 0,
      "outputs": []
    },
    {
      "metadata": {
        "id": "xJzyuz1MJJ_6",
        "colab_type": "code",
        "colab": {
          "autoexec": {
            "startup": false,
            "wait_interval": 0
          }
        }
      },
      "cell_type": "code",
      "source": [
        "batch_meta = all_data[0]\n",
        "data_batch1 = all_data[1]\n",
        "data_batch2 = all_data[2]\n",
        "data_batch3 = all_data[3]\n",
        "data_batch4 = all_data[4]\n",
        "data_batch5 = all_data[5]\n",
        "test_batch = all_data[6]"
      ],
      "execution_count": 0,
      "outputs": []
    },
    {
      "metadata": {
        "id": "bVH6KC6ZJKAM",
        "colab_type": "code",
        "colab": {
          "autoexec": {
            "startup": false,
            "wait_interval": 0
          },
          "base_uri": "https://localhost:8080/",
          "height": 225
        },
        "outputId": "35893795-305e-4a33-b3b0-08e67468af73",
        "executionInfo": {
          "status": "ok",
          "timestamp": 1524527427688,
          "user_tz": -330,
          "elapsed": 950,
          "user": {
            "displayName": "Iresh Mishra",
            "photoUrl": "https://lh3.googleusercontent.com/a/default-user=s128",
            "userId": "113084233984419493374"
          }
        }
      },
      "cell_type": "code",
      "source": [
        "batch_meta"
      ],
      "execution_count": 20,
      "outputs": [
        {
          "output_type": "execute_result",
          "data": {
            "text/plain": [
              "{b'label_names': [b'airplane',\n",
              "  b'automobile',\n",
              "  b'bird',\n",
              "  b'cat',\n",
              "  b'deer',\n",
              "  b'dog',\n",
              "  b'frog',\n",
              "  b'horse',\n",
              "  b'ship',\n",
              "  b'truck'],\n",
              " b'num_cases_per_batch': 10000,\n",
              " b'num_vis': 3072}"
            ]
          },
          "metadata": {
            "tags": []
          },
          "execution_count": 20
        }
      ]
    },
    {
      "metadata": {
        "id": "_8_9t6eMJKAe",
        "colab_type": "text"
      },
      "cell_type": "markdown",
      "source": [
        "** Why the 'b's in front of the string? **\n",
        "Bytes literals are always prefixed with 'b' or 'B'; they produce an instance of the bytes type instead of the str type. They may only contain ASCII characters; bytes with a numeric value of 128 or greater must be expressed with escapes.\n",
        "\n",
        "https://stackoverflow.com/questions/6269765/what-does-the-b-character-do-in-front-of-a-string-literal"
      ]
    },
    {
      "metadata": {
        "id": "J94o4Dhu7DGk",
        "colab_type": "text"
      },
      "cell_type": "markdown",
      "source": [
        ""
      ]
    },
    {
      "metadata": {
        "id": "KQQ83SqK7D1G",
        "colab_type": "text"
      },
      "cell_type": "markdown",
      "source": [
        "# ~*Summary*~\n",
        "## ==============\n",
        "\n",
        " \n",
        "\n",
        "*  We learnt to download a dataset on colab [!wget dataset-address]\n",
        "*    We learnt to extract a tar.gz file  *{tar -xvzf name.tar.gz}*\n",
        "* 'AND that....  unpickling isn't UnZipping\n",
        "* That files need to be in unzipped/extracted folder for unpickling like this\n",
        "\n",
        "\n",
        "\n",
        "-\n"
      ]
    },
    {
      "metadata": {
        "id": "PeoHzsUL_7oG",
        "colab_type": "code",
        "colab": {
          "autoexec": {
            "startup": false,
            "wait_interval": 0
          }
        }
      },
      "cell_type": "code",
      "source": [
        ""
      ],
      "execution_count": 0,
      "outputs": []
    },
    {
      "metadata": {
        "id": "1__oQ-cj_uZ6",
        "colab_type": "code",
        "colab": {
          "autoexec": {
            "startup": false,
            "wait_interval": 0
          }
        }
      },
      "cell_type": "code",
      "source": [
        ""
      ],
      "execution_count": 0,
      "outputs": []
    }
  ]
}